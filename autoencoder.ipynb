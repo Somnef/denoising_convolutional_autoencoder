{
 "cells": [
  {
   "cell_type": "code",
   "execution_count": 1,
   "metadata": {},
   "outputs": [],
   "source": [
    "import numpy as np\n",
    "import pandas as pd\n",
    "\n",
    "import torch\n",
    "import torchvision\n",
    "\n",
    "import matplotlib.pyplot as plt\n",
    "\n",
    "import copy\n",
    "\n",
    "from utility import MNIST_AE, make_train_step, train, test"
   ]
  },
  {
   "cell_type": "code",
   "execution_count": 2,
   "metadata": {},
   "outputs": [
    {
     "data": {
      "text/plain": [
       "'cuda'"
      ]
     },
     "execution_count": 2,
     "metadata": {},
     "output_type": "execute_result"
    }
   ],
   "source": [
    "device = \"cuda\" if torch.cuda.is_available() else \"cpu\"\n",
    "device"
   ]
  },
  {
   "cell_type": "code",
   "execution_count": 3,
   "metadata": {},
   "outputs": [],
   "source": [
    "classes_trained_on = range(10)\n",
    "\n",
    "train_dataset = MNIST_AE(training_data=True, classes=classes_trained_on, noise_mean=5, noise_std=2)\n",
    "test_dataset = MNIST_AE(training_data=False, classes=classes_trained_on, noise_mean=5, noise_std=2)"
   ]
  },
  {
   "cell_type": "code",
   "execution_count": 4,
   "metadata": {},
   "outputs": [
    {
     "data": {
      "text/plain": [
       "<All keys matched successfully>"
      ]
     },
     "execution_count": 4,
     "metadata": {},
     "output_type": "execute_result"
    }
   ],
   "source": [
    "class ConvAE(torch.nn.Module):\n",
    "    def __init__(self) -> None:\n",
    "        super().__init__()\n",
    "\n",
    "        # Conv 1\n",
    "        self.conv1 = torch.nn.Conv2d(in_channels=1, out_channels=10, kernel_size=(5, 5))\n",
    "        torch.nn.init.xavier_uniform_(self.conv1.weight)\n",
    "        self.relu1 = torch.nn.ReLU()\n",
    "\n",
    "        # Max pool 1\n",
    "        self.maxpool1 = torch.nn.MaxPool2d(kernel_size=2, return_indices=True)\n",
    "\n",
    "        # Conv 2\n",
    "        self.conv2 = torch.nn.Conv2d(in_channels=10, out_channels=20, kernel_size=(5, 5))\n",
    "        torch.nn.init.xavier_uniform_(self.conv2.weight)\n",
    "        self.relu2 = torch.nn.ReLU()\n",
    "\n",
    "        # TODO: Add feedforward layers\n",
    "\n",
    "        # Deconv 1\n",
    "        self.deconv1 = torch.nn.ConvTranspose2d(in_channels=20, out_channels=10, kernel_size=(5, 5))\n",
    "        torch.nn.init.xavier_uniform_(self.deconv1.weight)\n",
    "        self.relu3 = torch.nn.ReLU()\n",
    "\n",
    "        # Max Unpool 1\n",
    "        self.maxunpool1 = torch.nn.MaxUnpool2d(kernel_size=2)\n",
    "\n",
    "        # Deconv 2\n",
    "        self.deconv2 = torch.nn.ConvTranspose2d(in_channels=10, out_channels=1, kernel_size=(5, 5))\n",
    "        torch.nn.init.xavier_uniform_(self.deconv2.weight)\n",
    "        self.relu4 = torch.nn.ReLU()\n",
    "\n",
    "    def forward(self, x):\n",
    "        out = self.conv1(x)\n",
    "        out = self.relu1(out)\n",
    "\n",
    "        size1 = out.size()\n",
    "        out, indices1 = self.maxpool1(out)\n",
    "\n",
    "        out = self.conv2(out)\n",
    "        out = self.relu2(out)\n",
    "\n",
    "        out = self.deconv1(out)\n",
    "        out = self.relu3(out)\n",
    "\n",
    "        out = self.maxunpool1(out, indices=indices1)\n",
    "\n",
    "        out = self.deconv2(out)\n",
    "        out = self.relu4(out)\n",
    "\n",
    "        return out\n",
    "\n",
    "\n",
    "model = ConvAE().to(device)\n",
    "\n",
    "untrained_model = ConvAE().to(device)\n",
    "untrained_model.load_state_dict(copy.deepcopy(model.state_dict()))"
   ]
  },
  {
   "cell_type": "code",
   "execution_count": 5,
   "metadata": {},
   "outputs": [],
   "source": [
    "nb_epochs = 10\n",
    "\n",
    "lr = 2e-4\n",
    "momentum = 0.7\n",
    "loss_reduction='mean'\n",
    "\n",
    "train_batch_size = 60\n",
    "test_batch_size = 120\n",
    "\n",
    "log_interval = 60\n",
    "\n",
    "train_loader = torch.utils.data.DataLoader(train_dataset, batch_size=train_batch_size, shuffle=True)\n",
    "test_loader = torch.utils.data.DataLoader(test_dataset, batch_size=test_batch_size, shuffle=True)\n",
    "\n",
    "loss_fn = torch.nn.MSELoss()\n",
    "optimizer = torch.optim.Adam(model.parameters(), lr=lr)\n",
    "\n",
    "train_step = make_train_step(model, loss_fn, optimizer)"
   ]
  },
  {
   "cell_type": "code",
   "execution_count": 6,
   "metadata": {},
   "outputs": [],
   "source": [
    "train_losses = []\n",
    "train_accuracies = []\n",
    "train_counter = []\n",
    "\n",
    "test_losses = []\n",
    "test_accuracies = []\n",
    "test_counter = []\n",
    "\n",
    "epoch = 1\n",
    "last_epoch = 1"
   ]
  },
  {
   "cell_type": "code",
   "execution_count": 17,
   "metadata": {},
   "outputs": [
    {
     "name": "stdout",
     "output_type": "stream",
     "text": [
      "Training epoch #5 (60/ 60000) (0%) - Loss = 0.347660\n",
      "Training epoch #5 (3660/ 60000) (6%) - Loss = 0.334305\n",
      "Training epoch #5 (7260/ 60000) (12%) - Loss = 0.323789\n",
      "Training epoch #5 (10860/ 60000) (18%) - Loss = 0.337536\n",
      "Training epoch #5 (14460/ 60000) (24%) - Loss = 0.330185\n",
      "Training epoch #5 (18060/ 60000) (30%) - Loss = 0.332207\n",
      "Training epoch #5 (21660/ 60000) (36%) - Loss = 0.319982\n",
      "Training epoch #5 (25260/ 60000) (42%) - Loss = 0.332146\n",
      "Training epoch #5 (28860/ 60000) (48%) - Loss = 0.330169\n",
      "Training epoch #5 (32460/ 60000) (54%) - Loss = 0.322704\n",
      "Training epoch #5 (36060/ 60000) (60%) - Loss = 0.327595\n",
      "Training epoch #5 (39660/ 60000) (66%) - Loss = 0.319844\n",
      "Training epoch #5 (43260/ 60000) (72%) - Loss = 0.328011\n",
      "Training epoch #5 (46860/ 60000) (78%) - Loss = 0.322453\n",
      "Training epoch #5 (50460/ 60000) (84%) - Loss = 0.333115\n",
      "Training epoch #5 (54060/ 60000) (90%) - Loss = 0.326519\n",
      "Training epoch #5 (57660/ 60000) (96%) - Loss = 0.316673\n",
      "\n",
      "Test epoch #5 - Avg. loss = 0.325302\n",
      "---------------------------------------------\n",
      "\n",
      "\n",
      "Training epoch #6 (60/ 60000) (0%) - Loss = 0.327450\n",
      "Training epoch #6 (3660/ 60000) (6%) - Loss = 0.334703\n",
      "Training epoch #6 (7260/ 60000) (12%) - Loss = 0.324994\n",
      "Training epoch #6 (10860/ 60000) (18%) - Loss = 0.325800\n",
      "Training epoch #6 (14460/ 60000) (24%) - Loss = 0.318927\n",
      "Training epoch #6 (18060/ 60000) (30%) - Loss = 0.337524\n",
      "Training epoch #6 (21660/ 60000) (36%) - Loss = 0.317582\n",
      "Training epoch #6 (25260/ 60000) (42%) - Loss = 0.330935\n",
      "Training epoch #6 (28860/ 60000) (48%) - Loss = 0.331388\n",
      "Training epoch #6 (32460/ 60000) (54%) - Loss = 0.327823\n",
      "Training epoch #6 (36060/ 60000) (60%) - Loss = 0.317364\n",
      "Training epoch #6 (39660/ 60000) (66%) - Loss = 0.330316\n",
      "Training epoch #6 (43260/ 60000) (72%) - Loss = 0.325622\n",
      "Training epoch #6 (46860/ 60000) (78%) - Loss = 0.328276\n",
      "Training epoch #6 (50460/ 60000) (84%) - Loss = 0.324953\n",
      "Training epoch #6 (54060/ 60000) (90%) - Loss = 0.317810\n",
      "Training epoch #6 (57660/ 60000) (96%) - Loss = 0.341462\n",
      "\n",
      "Test epoch #6 - Avg. loss = 0.322880\n",
      "---------------------------------------------\n",
      "\n",
      "\n",
      "Training epoch #7 (60/ 60000) (0%) - Loss = 0.323816\n",
      "Training epoch #7 (3660/ 60000) (6%) - Loss = 0.333407\n",
      "Training epoch #7 (7260/ 60000) (12%) - Loss = 0.321721\n",
      "Training epoch #7 (10860/ 60000) (18%) - Loss = 0.329349\n",
      "Training epoch #7 (14460/ 60000) (24%) - Loss = 0.330084\n",
      "Training epoch #7 (18060/ 60000) (30%) - Loss = 0.329296\n",
      "Training epoch #7 (21660/ 60000) (36%) - Loss = 0.311908\n",
      "Training epoch #7 (25260/ 60000) (42%) - Loss = 0.325379\n",
      "Training epoch #7 (28860/ 60000) (48%) - Loss = 0.326175\n",
      "Training epoch #7 (32460/ 60000) (54%) - Loss = 0.334032\n",
      "Training epoch #7 (36060/ 60000) (60%) - Loss = 0.317061\n",
      "Training epoch #7 (39660/ 60000) (66%) - Loss = 0.322338\n",
      "Training epoch #7 (43260/ 60000) (72%) - Loss = 0.326410\n",
      "Training epoch #7 (46860/ 60000) (78%) - Loss = 0.332443\n",
      "Training epoch #7 (50460/ 60000) (84%) - Loss = 0.320419\n",
      "Training epoch #7 (54060/ 60000) (90%) - Loss = 0.332544\n",
      "Training epoch #7 (57660/ 60000) (96%) - Loss = 0.323727\n",
      "\n",
      "Test epoch #7 - Avg. loss = 0.318975\n",
      "---------------------------------------------\n",
      "\n",
      "\n",
      "Training epoch #8 (60/ 60000) (0%) - Loss = 0.306045\n",
      "Training epoch #8 (3660/ 60000) (6%) - Loss = 0.313893\n",
      "Training epoch #8 (7260/ 60000) (12%) - Loss = 0.323988\n",
      "Training epoch #8 (10860/ 60000) (18%) - Loss = 0.310618\n",
      "Training epoch #8 (14460/ 60000) (24%) - Loss = 0.317859\n",
      "Training epoch #8 (18060/ 60000) (30%) - Loss = 0.310452\n",
      "Training epoch #8 (21660/ 60000) (36%) - Loss = 0.321705\n",
      "Training epoch #8 (25260/ 60000) (42%) - Loss = 0.319136\n",
      "Training epoch #8 (28860/ 60000) (48%) - Loss = 0.331431\n",
      "Training epoch #8 (32460/ 60000) (54%) - Loss = 0.310537\n",
      "Training epoch #8 (36060/ 60000) (60%) - Loss = 0.316265\n",
      "Training epoch #8 (39660/ 60000) (66%) - Loss = 0.317805\n",
      "Training epoch #8 (43260/ 60000) (72%) - Loss = 0.316777\n",
      "Training epoch #8 (46860/ 60000) (78%) - Loss = 0.316634\n",
      "Training epoch #8 (50460/ 60000) (84%) - Loss = 0.323284\n",
      "Training epoch #8 (54060/ 60000) (90%) - Loss = 0.327250\n",
      "Training epoch #8 (57660/ 60000) (96%) - Loss = 0.322742\n",
      "\n",
      "Test epoch #8 - Avg. loss = 0.318688\n",
      "---------------------------------------------\n",
      "\n",
      "\n",
      "Training epoch #9 (60/ 60000) (0%) - Loss = 0.323764\n",
      "Training epoch #9 (3660/ 60000) (6%) - Loss = 0.328428\n",
      "Training epoch #9 (7260/ 60000) (12%) - Loss = 0.324107\n",
      "Training epoch #9 (10860/ 60000) (18%) - Loss = 0.332925\n",
      "Training epoch #9 (14460/ 60000) (24%) - Loss = 0.318408\n",
      "Training epoch #9 (18060/ 60000) (30%) - Loss = 0.315651\n",
      "Training epoch #9 (21660/ 60000) (36%) - Loss = 0.332746\n",
      "Training epoch #9 (25260/ 60000) (42%) - Loss = 0.315526\n",
      "Training epoch #9 (28860/ 60000) (48%) - Loss = 0.313903\n",
      "Training epoch #9 (32460/ 60000) (54%) - Loss = 0.318671\n",
      "Training epoch #9 (36060/ 60000) (60%) - Loss = 0.318365\n",
      "Training epoch #9 (39660/ 60000) (66%) - Loss = 0.322268\n",
      "Training epoch #9 (43260/ 60000) (72%) - Loss = 0.312844\n",
      "Training epoch #9 (46860/ 60000) (78%) - Loss = 0.323029\n",
      "Training epoch #9 (50460/ 60000) (84%) - Loss = 0.333302\n",
      "Training epoch #9 (54060/ 60000) (90%) - Loss = 0.304237\n",
      "Training epoch #9 (57660/ 60000) (96%) - Loss = 0.319554\n",
      "\n",
      "Test epoch #9 - Avg. loss = 0.315205\n",
      "---------------------------------------------\n",
      "\n",
      "\n"
     ]
    }
   ],
   "source": [
    "# If model hasn't been trained yet, do a test (as a reference)\n",
    "if last_epoch == 1:\n",
    "    test(model, loss_fn, test_loader, test_losses, 0)\n",
    "    test_counter.append(0)\n",
    "\n",
    "for epoch in range(last_epoch, last_epoch + nb_epochs):\n",
    "    # Train\n",
    "    train(train_step, train_loader, train_losses, train_counter, epoch, log_interval, train_batch_size)\n",
    "    \n",
    "    # Test\n",
    "    test(model, loss_fn, test_loader, test_losses, epoch)\n",
    "    test_counter.append(epoch * len(train_loader.dataset))\n",
    "            \n",
    "last_epoch = epoch"
   ]
  },
  {
   "cell_type": "code",
   "execution_count": 18,
   "metadata": {},
   "outputs": [
    {
     "data": {
      "image/png": "[encoded data removed]",
      "text/plain": [
       "<Figure size 1440x360 with 1 Axes>"
      ]
     },
     "metadata": {
      "needs_background": "dark"
     },
     "output_type": "display_data"
    }
   ],
   "source": [
    "plt.figure(figsize=(20, 5))\n",
    "\n",
    "plt.plot(train_counter, train_losses, color='blue', label='Train')\n",
    "plt.plot(test_counter, test_losses, color='orange', label='Test')\n",
    "\n",
    "plt.setp(plt.title(\"Train/Test loss per # of images trained on\"), color='white')\n",
    "plt.setp(plt.xlabel(\"# of images trained on\"), color='white')\n",
    "plt.setp(plt.ylabel(\"MSE Loss\"), color='white')\n",
    "\n",
    "plt.legend(loc='upper right')\n",
    "\n",
    "plt.ylim([0, max(train_losses + test_losses) * 1.1])\n",
    "\n",
    "plt.tick_params(colors='white')"
   ]
  },
  {
   "cell_type": "code",
   "execution_count": 26,
   "metadata": {},
   "outputs": [
    {
     "data": {
      "image/png": "[encoded data removed]",
      "text/plain": [
       "<Figure size 576x576 with 4 Axes>"
      ]
     },
     "metadata": {
      "needs_background": "light"
     },
     "output_type": "display_data"
    }
   ],
   "source": [
    "data = test_dataset\n",
    "\n",
    "i = np.random.randint(0, len(data))\n",
    "\n",
    "x = data[i][0].to(device)\n",
    "y = data[i][1]\n",
    "\n",
    "y_hat_trained = model(torch.unsqueeze(x, dim=0))[0]\n",
    "y_hat_untrained = untrained_model(torch.unsqueeze(x, dim=0))[0]\n",
    "\n",
    "x, y_hat_trained, y_hat_untrained = x.to('cpu'), y_hat_trained.detach().to('cpu'), y_hat_untrained.detach().to('cpu')\n",
    "\n",
    "plt.figure(figsize=(8, 8))\n",
    "\n",
    "plt.subplot(221)\n",
    "plt.title('x')\n",
    "plt.imshow(x, cmap=\"gray\")\n",
    "\n",
    "plt.subplot(222)\n",
    "plt.title('y')\n",
    "plt.imshow(y, cmap=\"gray\")\n",
    "\n",
    "plt.subplot(223)\n",
    "plt.title('untrained model pred')\n",
    "plt.imshow(y_hat_untrained, cmap=\"gray\")\n",
    "\n",
    "plt.subplot(224)\n",
    "plt.title('trained model pred')\n",
    "plt.imshow(y_hat_trained, cmap=\"gray\")\n",
    "\n",
    "plt.tight_layout()"
   ]
  }
 ],
 "metadata": {
  "kernelspec": {
   "display_name": "pytorch_env",
   "language": "python",
   "name": "python3"
  },
  "language_info": {
   "codemirror_mode": {
    "name": "ipython",
    "version": 3
   },
   "file_extension": ".py",
   "mimetype": "text/x-python",
   "name": "python",
   "nbconvert_exporter": "python",
   "pygments_lexer": "ipython3",
   "version": "3.10.5"
  },
  "orig_nbformat": 4,
  "vscode": {
   "interpreter": {
    "hash": "10926e4f5ae89c47397135612b4d09b9aca6900154813bd145c479d1932ad4bf"
   }
  }
 },
 "nbformat": 4,
 "nbformat_minor": 2
}
